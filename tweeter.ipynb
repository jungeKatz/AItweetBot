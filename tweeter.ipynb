{
  "nbformat": 4,
  "nbformat_minor": 0,
  "metadata": {
    "colab": {
      "name": "tweeter.ipynb",
      "provenance": [],
      "collapsed_sections": [],
      "mount_file_id": "1DpBp2EmnWQLvSS2PdEyIJOHq4abzJyGp",
      "authorship_tag": "ABX9TyNuv/MY7sv30qIPP1A9jOsO",
      "include_colab_link": true
    },
    "kernelspec": {
      "display_name": "Python 3",
      "name": "python3"
    },
    "language_info": {
      "name": "python"
    }
  },
  "cells": [
    {
      "cell_type": "markdown",
      "metadata": {
        "id": "view-in-github",
        "colab_type": "text"
      },
      "source": [
        "<a href=\"https://colab.research.google.com/github/jungeKatz/AItweetBot/blob/main/tweeter.ipynb\" target=\"_parent\"><img src=\"https://colab.research.google.com/assets/colab-badge.svg\" alt=\"Open In Colab\"/></a>"
      ]
    },
    {
      "cell_type": "code",
      "metadata": {
        "id": "ue817RvotqFg"
      },
      "source": [
        "import tensorflow as tf\n",
        "import tweepy\n",
        "import json\n",
        "import numpy as np\n"
      ],
      "execution_count": 15,
      "outputs": []
    },
    {
      "cell_type": "code",
      "metadata": {
        "colab": {
          "base_uri": "https://localhost:8080/"
        },
        "id": "XM8rjIQ4UCds",
        "outputId": "bc8b2c16-c2c5-4cdf-8418-219d76b2d7d3"
      },
      "source": [
        "!pip install transformers"
      ],
      "execution_count": 16,
      "outputs": [
        {
          "output_type": "stream",
          "text": [
            "Requirement already satisfied: transformers in /usr/local/lib/python3.7/dist-packages (4.8.2)\n",
            "Requirement already satisfied: numpy>=1.17 in /usr/local/lib/python3.7/dist-packages (from transformers) (1.19.5)\n",
            "Requirement already satisfied: pyyaml in /usr/local/lib/python3.7/dist-packages (from transformers) (3.13)\n",
            "Requirement already satisfied: regex!=2019.12.17 in /usr/local/lib/python3.7/dist-packages (from transformers) (2019.12.20)\n",
            "Requirement already satisfied: importlib-metadata in /usr/local/lib/python3.7/dist-packages (from transformers) (4.6.1)\n",
            "Requirement already satisfied: packaging in /usr/local/lib/python3.7/dist-packages (from transformers) (21.0)\n",
            "Requirement already satisfied: sacremoses in /usr/local/lib/python3.7/dist-packages (from transformers) (0.0.45)\n",
            "Requirement already satisfied: requests in /usr/local/lib/python3.7/dist-packages (from transformers) (2.23.0)\n",
            "Requirement already satisfied: tokenizers<0.11,>=0.10.1 in /usr/local/lib/python3.7/dist-packages (from transformers) (0.10.3)\n",
            "Requirement already satisfied: huggingface-hub==0.0.12 in /usr/local/lib/python3.7/dist-packages (from transformers) (0.0.12)\n",
            "Requirement already satisfied: tqdm>=4.27 in /usr/local/lib/python3.7/dist-packages (from transformers) (4.41.1)\n",
            "Requirement already satisfied: filelock in /usr/local/lib/python3.7/dist-packages (from transformers) (3.0.12)\n",
            "Requirement already satisfied: typing-extensions in /usr/local/lib/python3.7/dist-packages (from huggingface-hub==0.0.12->transformers) (3.7.4.3)\n",
            "Requirement already satisfied: pyparsing>=2.0.2 in /usr/local/lib/python3.7/dist-packages (from packaging->transformers) (2.4.7)\n",
            "Requirement already satisfied: zipp>=0.5 in /usr/local/lib/python3.7/dist-packages (from importlib-metadata->transformers) (3.5.0)\n",
            "Requirement already satisfied: certifi>=2017.4.17 in /usr/local/lib/python3.7/dist-packages (from requests->transformers) (2021.5.30)\n",
            "Requirement already satisfied: idna<3,>=2.5 in /usr/local/lib/python3.7/dist-packages (from requests->transformers) (2.10)\n",
            "Requirement already satisfied: urllib3!=1.25.0,!=1.25.1,<1.26,>=1.21.1 in /usr/local/lib/python3.7/dist-packages (from requests->transformers) (1.24.3)\n",
            "Requirement already satisfied: chardet<4,>=3.0.2 in /usr/local/lib/python3.7/dist-packages (from requests->transformers) (3.0.4)\n",
            "Requirement already satisfied: click in /usr/local/lib/python3.7/dist-packages (from sacremoses->transformers) (7.1.2)\n",
            "Requirement already satisfied: joblib in /usr/local/lib/python3.7/dist-packages (from sacremoses->transformers) (1.0.1)\n",
            "Requirement already satisfied: six in /usr/local/lib/python3.7/dist-packages (from sacremoses->transformers) (1.15.0)\n"
          ],
          "name": "stdout"
        }
      ]
    },
    {
      "cell_type": "code",
      "metadata": {
        "id": "-dvveZTwUKdO"
      },
      "source": [
        "from transformers import (\n",
        "    GPT2Tokenizer,\n",
        "    DataCollatorForLanguageModeling,\n",
        "    TextDataset,\n",
        "    GPT2LMHeadModel,\n",
        "    TrainingArguments,\n",
        "    Trainer,\n",
        "    pipeline)"
      ],
      "execution_count": 17,
      "outputs": []
    },
    {
      "cell_type": "code",
      "metadata": {
        "id": "xMayaPxtuLdR"
      },
      "source": [
        "keys = json.load(open('/content/drive/MyDrive/keys/twtter.json', 'r'))\n",
        "consumer_key = keys['apiKey']\n",
        "consumer_secret = keys['apiSecretKey']\n",
        "access_key = keys['accessToken']\n",
        "access_secret = keys['accessTokenSecret']"
      ],
      "execution_count": 18,
      "outputs": []
    },
    {
      "cell_type": "code",
      "metadata": {
        "id": "Fod7VwTdt7N-"
      },
      "source": [
        "# tf.saved_model.save(one_step_model, '/content/drive/MyDrive/model/one_step')\n",
        "def load_model():\n",
        " return  pipeline('text-generation', tokenizer='gpt2', model='/content/drive/MyDrive/model/gpt2')"
      ],
      "execution_count": 19,
      "outputs": []
    },
    {
      "cell_type": "code",
      "metadata": {
        "id": "xX26vZxKqtut"
      },
      "source": [
        "def gen():\n",
        " generator = load_model()"
      ],
      "execution_count": 20,
      "outputs": []
    },
    {
      "cell_type": "code",
      "metadata": {
        "id": "0ay_avdw2NE4"
      },
      "source": [
        "gen()"
      ],
      "execution_count": 21,
      "outputs": []
    },
    {
      "cell_type": "code",
      "metadata": {
        "id": "GMdsy1w7XiCJ"
      },
      "source": [
        " def tweetsGen():\n",
        "  tweet=(generator('Robo Guru Speaks:', max_length=100)[0]['generated_text'])\n",
        "  tweet = tweet[:265] + (tweet[265:] and '...')\n",
        "  return tweet\n",
        "  "
      ],
      "execution_count": 22,
      "outputs": []
    },
    {
      "cell_type": "code",
      "metadata": {
        "id": "XmmYTm6H5kEq"
      },
      "source": [
        "#   states = None\n",
        "#   next_char = tf.constant(['BOT:'])\n",
        "#   result = [next_char]\n",
        "\n",
        "#   for n in range(250):\n",
        "#    next_char, states = model.generate_one_step(next_char, states=states)\n",
        "#    result.append(next_char)\n",
        "\n",
        "# print(tf.strings.join(result)[0].numpy().decode(\"utf-8\"))"
      ],
      "execution_count": 23,
      "outputs": []
    },
    {
      "cell_type": "code",
      "metadata": {
        "id": "sdvoQPoTt8ve"
      },
      "source": [
        "# def tweetsGen():\n",
        "#   states = None\n",
        "#   next_char = tf.constant(['BOT:'])\n",
        "#   result = [next_char]\n",
        "\n",
        "#   for n in range(140):\n",
        "#    next_char, states = model.generate_one_step(next_char, states=states)\n",
        "#    result.append(next_char)\n",
        "\n",
        "#   #  print()\n",
        "#   return tf.strings.join(result)[0].numpy().decode(\"utf-8\")\n",
        "\n"
      ],
      "execution_count": 24,
      "outputs": []
    },
    {
      "cell_type": "code",
      "metadata": {
        "id": "6cXlg7RuuPcS"
      },
      "source": [
        " auth = tweepy.OAuthHandler(consumer_key, consumer_secret)\n",
        " auth.set_access_token(access_key, access_secret)\n",
        " api = tweepy.API(auth)\n",
        " "
      ],
      "execution_count": 25,
      "outputs": []
    },
    {
      "cell_type": "code",
      "metadata": {
        "colab": {
          "base_uri": "https://localhost:8080/"
        },
        "id": "yqcw__0evHRN",
        "outputId": "f1c3ad57-9b37-4be9-c7d0-00b376a48c68"
      },
      "source": [
        "import time\n",
        "  \n",
        "# immediately prints the following.\n",
        "value = True;\n",
        "count = 1;\n",
        "minutes= 0.5; # change the interval in minutes , for the tweet\n",
        "while(value):\n",
        "  count = count+1;\n",
        " \n",
        "  result =tweetsGen()\n",
        "  \n",
        "  print(result)\n",
        "  api.update_status(result)\n",
        "  print(count)\n",
        "  time.sleep(minutes*60)\n",
        "  if( count == 96):\n",
        "    break;\n",
        "    \n",
        "   \n"
      ],
      "execution_count": null,
      "outputs": [
        {
          "output_type": "stream",
          "text": [
            "Setting `pad_token_id` to `eos_token_id`:50256 for open-end generation.\n"
          ],
          "name": "stderr"
        },
        {
          "output_type": "stream",
          "text": [
            "Robo Guru Speaks: \n",
            "\n",
            "Krishna Roydon’s Life on The Journey Home: \n",
            "\n",
            "The Greatest Secret to Meditation: Learning to Be a Better Person Through Meditation!: Learning to Be a Better Person Through The Secret to Meditation!: Meditation \n",
            "\n",
            "Krishna Roydon’s Life on The Journ...\n",
            "2\n"
          ],
          "name": "stdout"
        },
        {
          "output_type": "stream",
          "text": [
            "Setting `pad_token_id` to `eos_token_id`:50256 for open-end generation.\n"
          ],
          "name": "stderr"
        },
        {
          "output_type": "stream",
          "text": [
            "Robo Guru Speaks: 1) What You Have to Do to Success,\n",
            "2) What You Need to Grow,\n",
            "3) What You Can Achieve,\n",
            "4) What You Can Do For Someone Else,\n",
            "5) What You Can Do With Yourself.\n",
            "The more time you spend focusing on negative things, the more positive they will be.Every ...\n",
            "3\n"
          ],
          "name": "stdout"
        }
      ]
    }
  ]
}