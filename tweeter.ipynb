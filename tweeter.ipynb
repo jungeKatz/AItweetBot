{
  "nbformat": 4,
  "nbformat_minor": 0,
  "metadata": {
    "colab": {
      "name": "tweeter.ipynb",
      "provenance": [],
      "collapsed_sections": [],
      "mount_file_id": "1DpBp2EmnWQLvSS2PdEyIJOHq4abzJyGp",
      "authorship_tag": "ABX9TyMkMEH/Vd8EJuYo8mriL7rk",
      "include_colab_link": true
    },
    "kernelspec": {
      "display_name": "Python 3",
      "name": "python3"
    },
    "language_info": {
      "name": "python"
    }
  },
  "cells": [
    {
      "cell_type": "markdown",
      "metadata": {
        "id": "view-in-github",
        "colab_type": "text"
      },
      "source": [
        "<a href=\"https://colab.research.google.com/github/jungeKatz/AItweetBot/blob/main/tweeter.ipynb\" target=\"_parent\"><img src=\"https://colab.research.google.com/assets/colab-badge.svg\" alt=\"Open In Colab\"/></a>"
      ]
    },
    {
      "cell_type": "code",
      "metadata": {
        "id": "ue817RvotqFg"
      },
      "source": [
        "# import tensorflow as tf\n",
        "import tweepy\n",
        "import json\n",
        "import numpy as np\n",
        "import random\n"
      ],
      "execution_count": null,
      "outputs": []
    },
    {
      "cell_type": "code",
      "metadata": {
        "id": "XM8rjIQ4UCds"
      },
      "source": [
        "!pip install transformers"
      ],
      "execution_count": null,
      "outputs": []
    },
    {
      "cell_type": "code",
      "metadata": {
        "id": "-dvveZTwUKdO"
      },
      "source": [
        "from transformers import (\n",
        "    GPT2Tokenizer,\n",
        "    DataCollatorForLanguageModeling,\n",
        "    TextDataset,\n",
        "    GPT2LMHeadModel,\n",
        "    TrainingArguments,\n",
        "    Trainer,\n",
        "    pipeline)"
      ],
      "execution_count": null,
      "outputs": []
    },
    {
      "cell_type": "code",
      "metadata": {
        "id": "xMayaPxtuLdR"
      },
      "source": [
        "keys = json.load(open('/content/drive/MyDrive/keys/twtter.json', 'r'))\n",
        "consumer_key = keys['apiKey']\n",
        "consumer_secret = keys['apiSecretKey']\n",
        "access_key = keys['accessToken']\n",
        "access_secret = keys['accessTokenSecret']"
      ],
      "execution_count": null,
      "outputs": []
    },
    {
      "cell_type": "code",
      "metadata": {
        "id": "Fod7VwTdt7N-"
      },
      "source": [
        "# tf.saved_model.save(one_step_model, '/content/drive/MyDrive/model/one_step')\n",
        "def load_model():\n",
        " return  pipeline('text-generation', tokenizer='gpt2', model='/content/drive/MyDrive/model/gpt2')"
      ],
      "execution_count": null,
      "outputs": []
    },
    {
      "cell_type": "code",
      "metadata": {
        "id": "xX26vZxKqtut"
      },
      "source": [
        "def gen():\n",
        " generator = load_model()\n",
        " return generator"
      ],
      "execution_count": null,
      "outputs": []
    },
    {
      "cell_type": "code",
      "metadata": {
        "id": "0ay_avdw2NE4"
      },
      "source": [
        ""
      ],
      "execution_count": null,
      "outputs": []
    },
    {
      "cell_type": "code",
      "metadata": {
        "id": "GMdsy1w7XiCJ"
      },
      "source": [
        " def tweetsGen():\n",
        "  startList =['#AI Guru Says:', '#MachineLearning' ,\"Artificial Intelligence\", \"#artificialIntelligence\",'Machine Learning' , '#Robot' , 'Robot' \n",
        "              , 'Life' ,'#AI', ' ', 'Universe,','Earth' ,'#ai', 'Vibrations','Research' ,'#DataScience','Science'] \n",
        "  start = str(random.choice(startList))\n",
        "  generator=gen()\n",
        "  tweet=(generator(start, max_length=100)[0]['generated_text'])\n",
        "  tweet = tweet[:265] + (tweet[265:] and '...')\n",
        " \n",
        "  return tweet\n",
        "  "
      ],
      "execution_count": null,
      "outputs": []
    },
    {
      "cell_type": "code",
      "metadata": {
        "id": "XmmYTm6H5kEq"
      },
      "source": [
        "#   states = None\n",
        "#   next_char = tf.constant(['BOT:'])\n",
        "#   result = [next_char]\n",
        "\n",
        "#   for n in range(250):\n",
        "#    next_char, states = model.generate_one_step(next_char, states=states)\n",
        "#    result.append(next_char)\n",
        "\n",
        "# print(tf.strings.join(result)[0].numpy().decode(\"utf-8\"))"
      ],
      "execution_count": null,
      "outputs": []
    },
    {
      "cell_type": "code",
      "metadata": {
        "id": "sdvoQPoTt8ve"
      },
      "source": [
        "# def tweetsGen():\n",
        "#   states = None\n",
        "#   next_char = tf.constant(['BOT:'])\n",
        "#   result = [next_char]\n",
        "\n",
        "#   for n in range(140):\n",
        "#    next_char, states = model.generate_one_step(next_char, states=states)\n",
        "#    result.append(next_char)\n",
        "\n",
        "#   #  print()\n",
        "#   return tf.strings.join(result)[0].numpy().decode(\"utf-8\")\n",
        "\n"
      ],
      "execution_count": null,
      "outputs": []
    },
    {
      "cell_type": "code",
      "metadata": {
        "id": "6cXlg7RuuPcS"
      },
      "source": [
        " auth = tweepy.OAuthHandler(consumer_key, consumer_secret)\n",
        " auth.set_access_token(access_key, access_secret)\n",
        " api = tweepy.API(auth)\n",
        " "
      ],
      "execution_count": null,
      "outputs": []
    },
    {
      "cell_type": "code",
      "metadata": {
        "colab": {
          "background_save": true
        },
        "id": "yqcw__0evHRN"
      },
      "source": [
        "import time\n",
        "  \n",
        "# immediately prints the following.\n",
        "value = True;\n",
        "count = 1;\n",
        "minutes= 0.5; # change the interval in minutes , for the tweet\n",
        "while(value):\n",
        "  count = count+1;\n",
        " \n",
        "  result =tweetsGen()\n",
        "  \n",
        "  print(result)\n",
        "  api.update_status(result)\n",
        "  print(count)\n",
        "  time.sleep(minutes*60)\n",
        "  if( count == 96):\n",
        "    break;\n",
        "    \n",
        "   \n"
      ],
      "execution_count": null,
      "outputs": []
    }
  ]
}