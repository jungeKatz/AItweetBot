{
  "nbformat": 4,
  "nbformat_minor": 0,
  "metadata": {
    "colab": {
      "name": "tweeter.ipynb",
      "provenance": [],
      "collapsed_sections": [],
      "mount_file_id": "1DpBp2EmnWQLvSS2PdEyIJOHq4abzJyGp",
      "authorship_tag": "ABX9TyOHTRWSsb6dFHoKnV1Pq8ew",
      "include_colab_link": true
    },
    "kernelspec": {
      "name": "python3",
      "display_name": "Python 3"
    },
    "language_info": {
      "name": "python"
    }
  },
  "cells": [
    {
      "cell_type": "markdown",
      "metadata": {
        "id": "view-in-github",
        "colab_type": "text"
      },
      "source": [
        "<a href=\"https://colab.research.google.com/github/jungeKatz/AItweetBot/blob/main/tweeter.ipynb\" target=\"_parent\"><img src=\"https://colab.research.google.com/assets/colab-badge.svg\" alt=\"Open In Colab\"/></a>"
      ]
    },
    {
      "cell_type": "code",
      "metadata": {
        "id": "ue817RvotqFg"
      },
      "source": [
        "import tensorflow as tf\n",
        "import tweepy\n",
        "import json\n",
        "import numpy as np\n"
      ],
      "execution_count": 34,
      "outputs": []
    },
    {
      "cell_type": "code",
      "metadata": {
        "id": "xMayaPxtuLdR"
      },
      "source": [
        "keys = json.load(open('/content/drive/MyDrive/keys/twtter.json', 'r'))\n",
        "consumer_key = keys['apiKey']\n",
        "consumer_secret = keys['apiSecretKey']\n",
        "access_key = keys['accessToken']\n",
        "access_secret = keys['accessTokenSecret']"
      ],
      "execution_count": 35,
      "outputs": []
    },
    {
      "cell_type": "code",
      "metadata": {
        "id": "Fod7VwTdt7N-"
      },
      "source": [
        "# tf.saved_model.save(one_step_model, '/content/drive/MyDrive/model/one_step')\n",
        "one_step_reloaded = tf.saved_model.load('/content/drive/MyDrive/model/one_step2')"
      ],
      "execution_count": 36,
      "outputs": []
    },
    {
      "cell_type": "code",
      "metadata": {
        "colab": {
          "base_uri": "https://localhost:8080/"
        },
        "id": "XmmYTm6H5kEq",
        "outputId": "23365e50-06a1-4f12-d08e-425be241e4b6"
      },
      "source": [
        "  states = None\n",
        "  next_char = tf.constant(['BOT:'])\n",
        "  result = [next_char]\n",
        "\n",
        "  for n in range(250):\n",
        "   next_char, states = one_step_reloaded.generate_one_step(next_char, states=states)\n",
        "   result.append(next_char)\n",
        "\n",
        "print(tf.strings.join(result)[0].numpy().decode(\"utf-8\"))"
      ],
      "execution_count": 37,
      "outputs": [
        {
          "output_type": "stream",
          "text": [
            "BOT: i don't know i'm not tastumed of thank gets in the nation. no success comes from who you are.. \n",
            "on your sanghis his kind. only a day is a new opportunity to regret for the good for peace, but love is your lesson. the perseverance of your life is a b\n"
          ],
          "name": "stdout"
        }
      ]
    },
    {
      "cell_type": "code",
      "metadata": {
        "id": "sdvoQPoTt8ve"
      },
      "source": [
        "def tweetsGen():\n",
        "  states = None\n",
        "  next_char = tf.constant(['BOT:'])\n",
        "  result = [next_char]\n",
        "\n",
        "  for n in range(250):\n",
        "   next_char, states = one_step_reloaded.generate_one_step(next_char, states=states)\n",
        "   result.append(next_char)\n",
        "\n",
        "  #  print()\n",
        "  return tf.strings.join(result)[0].numpy().decode(\"utf-8\")\n",
        "\n"
      ],
      "execution_count": 38,
      "outputs": []
    },
    {
      "cell_type": "code",
      "metadata": {
        "id": "6cXlg7RuuPcS"
      },
      "source": [
        " auth = tweepy.OAuthHandler(consumer_key, consumer_secret)\n",
        " auth.set_access_token(access_key, access_secret)\n",
        " api = tweepy.API(auth)\n",
        " "
      ],
      "execution_count": 39,
      "outputs": []
    },
    {
      "cell_type": "code",
      "metadata": {
        "colab": {
          "base_uri": "https://localhost:8080/",
          "height": 249
        },
        "id": "yqcw__0evHRN",
        "outputId": "9056d51a-57af-4ad7-da18-2bd620340928"
      },
      "source": [
        "import time\n",
        "  \n",
        "# immediately prints the following.\n",
        "value = True;\n",
        "while(value):\n",
        " \n",
        "  time.sleep(600)\n",
        "  result =tweetsGen()\n",
        "  print(result)\n",
        "  api.update_status(result)\n"
      ],
      "execution_count": 41,
      "outputs": [
        {
          "output_type": "error",
          "ename": "KeyboardInterrupt",
          "evalue": "ignored",
          "traceback": [
            "\u001b[0;31m---------------------------------------------------------------------------\u001b[0m",
            "\u001b[0;31mKeyboardInterrupt\u001b[0m                         Traceback (most recent call last)",
            "\u001b[0;32m<ipython-input-41-6313d8ed31e3>\u001b[0m in \u001b[0;36m<module>\u001b[0;34m()\u001b[0m\n\u001b[1;32m      5\u001b[0m \u001b[0;32mwhile\u001b[0m\u001b[0;34m(\u001b[0m\u001b[0mvalue\u001b[0m\u001b[0;34m)\u001b[0m\u001b[0;34m:\u001b[0m\u001b[0;34m\u001b[0m\u001b[0;34m\u001b[0m\u001b[0m\n\u001b[1;32m      6\u001b[0m \u001b[0;34m\u001b[0m\u001b[0m\n\u001b[0;32m----> 7\u001b[0;31m   \u001b[0mtime\u001b[0m\u001b[0;34m.\u001b[0m\u001b[0msleep\u001b[0m\u001b[0;34m(\u001b[0m\u001b[0;36m600\u001b[0m\u001b[0;34m)\u001b[0m\u001b[0;34m\u001b[0m\u001b[0;34m\u001b[0m\u001b[0m\n\u001b[0m\u001b[1;32m      8\u001b[0m   \u001b[0mresult\u001b[0m \u001b[0;34m=\u001b[0m\u001b[0mtweetsGen\u001b[0m\u001b[0;34m(\u001b[0m\u001b[0;34m)\u001b[0m\u001b[0;34m\u001b[0m\u001b[0;34m\u001b[0m\u001b[0m\n\u001b[1;32m      9\u001b[0m   \u001b[0mprint\u001b[0m\u001b[0;34m(\u001b[0m\u001b[0mresult\u001b[0m\u001b[0;34m)\u001b[0m\u001b[0;34m\u001b[0m\u001b[0;34m\u001b[0m\u001b[0m\n",
            "\u001b[0;31mKeyboardInterrupt\u001b[0m: "
          ]
        }
      ]
    }
  ]
}