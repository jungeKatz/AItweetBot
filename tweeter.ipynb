{
  "nbformat": 4,
  "nbformat_minor": 0,
  "metadata": {
    "colab": {
      "name": "tweeter.ipynb",
      "provenance": [],
      "collapsed_sections": [],
      "mount_file_id": "1DpBp2EmnWQLvSS2PdEyIJOHq4abzJyGp",
      "authorship_tag": "ABX9TyMpa8AY49KRiqPJfLIwTOq2",
      "include_colab_link": true
    },
    "kernelspec": {
      "name": "python3",
      "display_name": "Python 3"
    },
    "language_info": {
      "name": "python"
    }
  },
  "cells": [
    {
      "cell_type": "markdown",
      "metadata": {
        "id": "view-in-github",
        "colab_type": "text"
      },
      "source": [
        "<a href=\"https://colab.research.google.com/github/jungeKatz/AItweetBot/blob/main/tweeter.ipynb\" target=\"_parent\"><img src=\"https://colab.research.google.com/assets/colab-badge.svg\" alt=\"Open In Colab\"/></a>"
      ]
    },
    {
      "cell_type": "code",
      "metadata": {
        "id": "ue817RvotqFg"
      },
      "source": [
        "import tensorflow as tf\n",
        "import tweepy\n",
        "import json\n",
        "import numpy as np\n"
      ],
      "execution_count": 15,
      "outputs": []
    },
    {
      "cell_type": "code",
      "metadata": {
        "id": "xMayaPxtuLdR"
      },
      "source": [
        "keys = json.load(open('/content/drive/MyDrive/keys/twtter.json', 'r'))\n",
        "consumer_key = keys['apiKey']\n",
        "consumer_secret = keys['apiSecretKey']\n",
        "access_key = keys['accessToken']\n",
        "access_secret = keys['accessTokenSecret']"
      ],
      "execution_count": 16,
      "outputs": []
    },
    {
      "cell_type": "code",
      "metadata": {
        "id": "Fod7VwTdt7N-"
      },
      "source": [
        "# tf.saved_model.save(one_step_model, '/content/drive/MyDrive/model/one_step')\n",
        "one_step_reloaded = tf.saved_model.load('/content/drive/MyDrive/model/one_step2')"
      ],
      "execution_count": 17,
      "outputs": []
    },
    {
      "cell_type": "code",
      "metadata": {
        "colab": {
          "base_uri": "https://localhost:8080/"
        },
        "id": "XmmYTm6H5kEq",
        "outputId": "56597ba7-210f-4055-c7a6-191d758523ce"
      },
      "source": [
        "  states = None\n",
        "  next_char = tf.constant(['BOT:'])\n",
        "  result = [next_char]\n",
        "\n",
        "  for n in range(250):\n",
        "   next_char, states = one_step_reloaded.generate_one_step(next_char, states=states)\n",
        "   result.append(next_char)\n",
        "\n",
        "print(tf.strings.join(result)[0].numpy().decode(\"utf-8\"))"
      ],
      "execution_count": 18,
      "outputs": [
        {
          "output_type": "stream",
          "text": [
            "BOT: we look forward.\" - brian tracy \"those who dare to make you rich or let go, how much your feelings in the universe is what you do something to your health.”\n",
            "- nealed- \n",
            "what a man always no important book for all of you waiting for the heart is a fri\n"
          ],
          "name": "stdout"
        }
      ]
    },
    {
      "cell_type": "code",
      "metadata": {
        "id": "sdvoQPoTt8ve"
      },
      "source": [
        "def tweetsGen():\n",
        "  states = None\n",
        "  next_char = tf.constant(['BOT:'])\n",
        "  result = [next_char]\n",
        "\n",
        "  for n in range(140):\n",
        "   next_char, states = one_step_reloaded.generate_one_step(next_char, states=states)\n",
        "   result.append(next_char)\n",
        "\n",
        "  #  print()\n",
        "  return tf.strings.join(result)[0].numpy().decode(\"utf-8\")\n",
        "\n"
      ],
      "execution_count": 19,
      "outputs": []
    },
    {
      "cell_type": "code",
      "metadata": {
        "id": "6cXlg7RuuPcS"
      },
      "source": [
        " auth = tweepy.OAuthHandler(consumer_key, consumer_secret)\n",
        " auth.set_access_token(access_key, access_secret)\n",
        " api = tweepy.API(auth)\n",
        " "
      ],
      "execution_count": 20,
      "outputs": []
    },
    {
      "cell_type": "code",
      "metadata": {
        "colab": {
          "base_uri": "https://localhost:8080/"
        },
        "id": "yqcw__0evHRN",
        "outputId": "cdfe1f67-e26d-4582-a6c4-1fab71d21ce1"
      },
      "source": [
        "import time\n",
        "  \n",
        "# immediately prints the following.\n",
        "value = True;\n",
        "count = 1;\n",
        "while(value):\n",
        "  count = count+1;\n",
        " \n",
        "  result =tweetsGen()\n",
        "  print(result)\n",
        "  api.update_status(result)\n",
        "  print(count)\n",
        "  time.sleep(60)\n",
        "  if( count == 10):\n",
        "    \n",
        "    break;\n"
      ],
      "execution_count": 21,
      "outputs": [
        {
          "output_type": "stream",
          "text": [
            "BOT: don't stop worrying.\n",
            "- johann wolfgang von goetheger history is inflience.\n",
            "- george mentor, if you are not learning, you are not growing.if\n",
            "BOT: make each other'd strength from califical adversity, it’s poisondradiate greatest friend puttara that was a lotest asset. in that, is he's \n",
            "BOT: \n",
            "\"your most important kindness results which sheases are obstacles wants to sit down in the choices you make.... you’ll never make it.\" - l\n",
            "BOT: we have end the same hunging a bad care and kindness; for everyone results you have to complete yourself to be well-people from waiting for\n",
            "BOT: fall and fall in tale.\n",
            "and!\n",
            "- benjamindrabathum\n",
            " everybody gets seconds in unknown. the elected thing. knowing that if only you may not do \n",
            "BOT: amchoice. \n",
            "- seneca\n",
            " the heart that we deep winning? what are you grateful as you are feeling rejected.nobody cares a meaning you believe\n",
            "-\n",
            "BOT: do you have to saik the habit of saying you create.\"\n",
            "\n",
            "~  oshoi may not always be real and don't waste it looks clern, but do you want to of\n",
            "BOT: focus on himself, as long as you are breaking big. shape it all for you?\" - unknown\"you are afraid of something.we are where lots of cowmer\n",
            "BOT: nurus a trainly important book for all of you. this book costs, precious state of brain. first because nobody else can were we think about \n",
            "10\n"
          ],
          "name": "stdout"
        }
      ]
    }
  ]
}