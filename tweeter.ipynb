{
  "nbformat": 4,
  "nbformat_minor": 0,
  "metadata": {
    "colab": {
      "name": "tweeter.ipynb",
      "provenance": [],
      "collapsed_sections": [],
      "mount_file_id": "1DpBp2EmnWQLvSS2PdEyIJOHq4abzJyGp",
      "authorship_tag": "ABX9TyOCRfsC+uQSK0q5s1qk1pMo",
      "include_colab_link": true
    },
    "kernelspec": {
      "name": "python3",
      "display_name": "Python 3"
    },
    "language_info": {
      "name": "python"
    }
  },
  "cells": [
    {
      "cell_type": "markdown",
      "metadata": {
        "id": "view-in-github",
        "colab_type": "text"
      },
      "source": [
        "<a href=\"https://colab.research.google.com/github/jungeKatz/AItweetBot/blob/main/tweeter.ipynb\" target=\"_parent\"><img src=\"https://colab.research.google.com/assets/colab-badge.svg\" alt=\"Open In Colab\"/></a>"
      ]
    },
    {
      "cell_type": "code",
      "metadata": {
        "id": "ue817RvotqFg"
      },
      "source": [
        "import tensorflow as tf\n",
        "import tweepy\n",
        "import json\n",
        "import numpy as np\n"
      ],
      "execution_count": 30,
      "outputs": []
    },
    {
      "cell_type": "code",
      "metadata": {
        "id": "xMayaPxtuLdR"
      },
      "source": [
        "keys = json.load(open('/content/drive/MyDrive/keys/twtter.json', 'r'))\n",
        "consumer_key = keys['apiKey']\n",
        "consumer_secret = keys['apiSecretKey']\n",
        "access_key = keys['accessToken']\n",
        "access_secret = keys['accessTokenSecret']"
      ],
      "execution_count": 31,
      "outputs": []
    },
    {
      "cell_type": "code",
      "metadata": {
        "id": "Fod7VwTdt7N-"
      },
      "source": [
        "# tf.saved_model.save(one_step_model, '/content/drive/MyDrive/model/one_step')\n",
        "def load_model():\n",
        " one_step_reloaded = tf.saved_model.load('/content/drive/MyDrive/model/one_step2')"
      ],
      "execution_count": 32,
      "outputs": []
    },
    {
      "cell_type": "code",
      "metadata": {
        "id": "xX26vZxKqtut"
      },
      "source": [
        "load_model()"
      ],
      "execution_count": 33,
      "outputs": []
    },
    {
      "cell_type": "code",
      "metadata": {
        "colab": {
          "base_uri": "https://localhost:8080/"
        },
        "id": "XmmYTm6H5kEq",
        "outputId": "0efba574-e1ea-4a94-b211-b9eb63aee239"
      },
      "source": [
        "  states = None\n",
        "  next_char = tf.constant(['BOT:'])\n",
        "  result = [next_char]\n",
        "\n",
        "  for n in range(250):\n",
        "   next_char, states = one_step_reloaded.generate_one_step(next_char, states=states)\n",
        "   result.append(next_char)\n",
        "\n",
        "print(tf.strings.join(result)[0].numpy().decode(\"utf-8\"))"
      ],
      "execution_count": 34,
      "outputs": [
        {
          "output_type": "stream",
          "text": [
            "BOT: you’re wake up and create a visionalizing the nation. 😂to all people who understand is in frontline worship over india deletedlessyadvest is a learning life.never give up on something you really want. it’s not the idea when things will surve without\n"
          ],
          "name": "stdout"
        }
      ]
    },
    {
      "cell_type": "code",
      "metadata": {
        "id": "sdvoQPoTt8ve"
      },
      "source": [
        "def tweetsGen():\n",
        "  states = None\n",
        "  next_char = tf.constant(['BOT:'])\n",
        "  result = [next_char]\n",
        "\n",
        "  for n in range(140):\n",
        "   next_char, states = one_step_reloaded.generate_one_step(next_char, states=states)\n",
        "   result.append(next_char)\n",
        "\n",
        "  #  print()\n",
        "  return tf.strings.join(result)[0].numpy().decode(\"utf-8\")\n",
        "\n"
      ],
      "execution_count": 35,
      "outputs": []
    },
    {
      "cell_type": "code",
      "metadata": {
        "id": "6cXlg7RuuPcS"
      },
      "source": [
        " auth = tweepy.OAuthHandler(consumer_key, consumer_secret)\n",
        " auth.set_access_token(access_key, access_secret)\n",
        " api = tweepy.API(auth)\n",
        " "
      ],
      "execution_count": 36,
      "outputs": []
    },
    {
      "cell_type": "code",
      "metadata": {
        "colab": {
          "base_uri": "https://localhost:8080/",
          "height": 325
        },
        "id": "yqcw__0evHRN",
        "outputId": "bcd60983-9387-4e77-9176-3d9685b647e3"
      },
      "source": [
        "import time\n",
        "  \n",
        "# immediately prints the following.\n",
        "value = True;\n",
        "count = 1;\n",
        "minutes= 15; # change the interval in minutes , for the tweet\n",
        "while(value):\n",
        "  count = count+1;\n",
        " \n",
        "  result =tweetsGen()\n",
        "  print(result)\n",
        "  api.update_status(result)\n",
        "  print(count)\n",
        "  time.sleep(minutes*60)\n",
        "  if( count == 96):\n",
        "    load_model()\n",
        "    \n",
        "   \n"
      ],
      "execution_count": 37,
      "outputs": [
        {
          "output_type": "stream",
          "text": [
            "BOT: do not settle for average when we are. all should have no idea india just a by product.\" - oscar waterini\"frick we are, what we fail: \n",
            "i wi\n",
            "2\n"
          ],
          "name": "stdout"
        },
        {
          "output_type": "error",
          "ename": "KeyboardInterrupt",
          "evalue": "ignored",
          "traceback": [
            "\u001b[0;31m---------------------------------------------------------------------------\u001b[0m",
            "\u001b[0;31mKeyboardInterrupt\u001b[0m                         Traceback (most recent call last)",
            "\u001b[0;32m<ipython-input-37-1754e63baf0a>\u001b[0m in \u001b[0;36m<module>\u001b[0;34m()\u001b[0m\n\u001b[1;32m     12\u001b[0m   \u001b[0mapi\u001b[0m\u001b[0;34m.\u001b[0m\u001b[0mupdate_status\u001b[0m\u001b[0;34m(\u001b[0m\u001b[0mresult\u001b[0m\u001b[0;34m)\u001b[0m\u001b[0;34m\u001b[0m\u001b[0;34m\u001b[0m\u001b[0m\n\u001b[1;32m     13\u001b[0m   \u001b[0mprint\u001b[0m\u001b[0;34m(\u001b[0m\u001b[0mcount\u001b[0m\u001b[0;34m)\u001b[0m\u001b[0;34m\u001b[0m\u001b[0;34m\u001b[0m\u001b[0m\n\u001b[0;32m---> 14\u001b[0;31m   \u001b[0mtime\u001b[0m\u001b[0;34m.\u001b[0m\u001b[0msleep\u001b[0m\u001b[0;34m(\u001b[0m\u001b[0mminutes\u001b[0m\u001b[0;34m*\u001b[0m\u001b[0;36m60\u001b[0m\u001b[0;34m)\u001b[0m\u001b[0;34m\u001b[0m\u001b[0;34m\u001b[0m\u001b[0m\n\u001b[0m\u001b[1;32m     15\u001b[0m   \u001b[0;32mif\u001b[0m\u001b[0;34m(\u001b[0m \u001b[0mcount\u001b[0m \u001b[0;34m==\u001b[0m \u001b[0;36m96\u001b[0m\u001b[0;34m)\u001b[0m\u001b[0;34m:\u001b[0m\u001b[0;34m\u001b[0m\u001b[0;34m\u001b[0m\u001b[0m\n\u001b[1;32m     16\u001b[0m     \u001b[0mload_model\u001b[0m\u001b[0;34m(\u001b[0m\u001b[0;34m)\u001b[0m\u001b[0;34m\u001b[0m\u001b[0;34m\u001b[0m\u001b[0m\n",
            "\u001b[0;31mKeyboardInterrupt\u001b[0m: "
          ]
        }
      ]
    }
  ]
}